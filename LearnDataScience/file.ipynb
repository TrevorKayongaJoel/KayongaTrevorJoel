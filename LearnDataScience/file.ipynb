{
 "cells": [
  {
   "cell_type": "code",
   "execution_count": 14,
   "id": "ac2c2b2e",
   "metadata": {},
   "outputs": [
    {
     "name": "stdout",
     "output_type": "stream",
     "text": [
      "Working with text files\n"
     ]
    }
   ],
   "source": [
    "# Reading and Writing files\n",
    "# Opening a file in read mode\n",
    "\n",
    "file = open(\"Joel.txt\", \"r\") # 'r' is for read mode\n",
    "\n",
    "#Reading the content of the file\n",
    "content = file.read()\n",
    "#Printing the content\n",
    "print(content)\n",
    "#Closing file\n",
    "file.close()\n"
   ]
  },
  {
   "cell_type": "code",
   "execution_count": 15,
   "id": "bf476c20",
   "metadata": {},
   "outputs": [],
   "source": [
    "# witing to a file\n",
    "with open(\"Trvr.txt\", \"w\") as file:\n",
    "    file.write(\"Writing to files\")"
   ]
  },
  {
   "cell_type": "code",
   "execution_count": 16,
   "id": "f517d148",
   "metadata": {},
   "outputs": [],
   "source": [
    "with open(\"Trvr.txt\", \"w\") as file:\n",
    "    file.write(\"Over writing an existing file.\\n\")"
   ]
  },
  {
   "cell_type": "code",
   "execution_count": 18,
   "id": "a68a7f19",
   "metadata": {},
   "outputs": [
    {
     "name": "stdout",
     "output_type": "stream",
     "text": [
      "Over writing an existing file.\n",
      "\n",
      "Writing to files\n",
      "Writing to files\n"
     ]
    }
   ],
   "source": [
    "with open(\"Trvr.txt\", \"a\") as file:\n",
    "    file.write(\"\\nWriting to files\")\n",
    "    \n",
    "with open(\"Trvr.txt\", \"r\") as file:\n",
    "    content = file.read()\n",
    "    print(content)"
   ]
  }
 ],
 "metadata": {
  "kernelspec": {
   "display_name": "base",
   "language": "python",
   "name": "python3"
  },
  "language_info": {
   "codemirror_mode": {
    "name": "ipython",
    "version": 3
   },
   "file_extension": ".py",
   "mimetype": "text/x-python",
   "name": "python",
   "nbconvert_exporter": "python",
   "pygments_lexer": "ipython3",
   "version": "3.12.7"
  }
 },
 "nbformat": 4,
 "nbformat_minor": 5
}
